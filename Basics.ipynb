{
 "cells": [
  {
   "cell_type": "markdown",
   "id": "693beb9c-4c98-4242-8d90-66bc07d73830",
   "metadata": {
    "tags": []
   },
   "source": [
    "# BASICS OF `PYTHON` PROGRAMMING\n",
    "\n",
    "In this notebook we will explain basic `python` for machine learning."
   ]
  },
  {
   "cell_type": "markdown",
   "id": "40e9ea11-761b-4b8f-812d-53b20868dff3",
   "metadata": {},
   "source": [
    "## DERIEVED DATATYPES IN `PYTHON`"
   ]
  },
  {
   "cell_type": "markdown",
   "id": "6db51e2d-6042-4cdf-adbd-a0be0172ffc4",
   "metadata": {},
   "source": [
    ">**NOTE:** In `Python`, `int, float, str`, are atomic datatypes and no declaration is required."
   ]
  },
  {
   "cell_type": "markdown",
   "id": "d16923de-6c01-4d4f-8fea-0a6fd25bd8f7",
   "metadata": {},
   "source": [
    "### LIST"
   ]
  },
  {
   "cell_type": "code",
   "execution_count": 7,
   "id": "c3e8c7a1-9142-4dfa-ae54-2a0afb4d5c29",
   "metadata": {
    "tags": []
   },
   "outputs": [],
   "source": [
    "my_list=[1,2,3]"
   ]
  },
  {
   "cell_type": "code",
   "execution_count": 9,
   "id": "9b70f118-c454-415f-8453-14e1aa6e4780",
   "metadata": {},
   "outputs": [
    {
     "data": {
      "text/plain": [
       "[1, 2, 3]"
      ]
     },
     "execution_count": 9,
     "metadata": {},
     "output_type": "execute_result"
    }
   ],
   "source": [
    "my_list"
   ]
  },
  {
   "cell_type": "code",
   "execution_count": 10,
   "id": "e0b98ff9-fa3a-4ab4-a25d-6c49e6e55656",
   "metadata": {},
   "outputs": [],
   "source": [
    "my_list=[1,'a',2,'b',3,'c']"
   ]
  },
  {
   "cell_type": "markdown",
   "id": "2bee01dc-04f9-413a-98c1-045b07b50b36",
   "metadata": {},
   "source": [
    "my_list"
   ]
  },
  {
   "cell_type": "code",
   "execution_count": 12,
   "id": "5999b255-4321-4935-bfdd-f998ec70a36c",
   "metadata": {},
   "outputs": [
    {
     "data": {
      "text/plain": [
       "1"
      ]
     },
     "execution_count": 12,
     "metadata": {},
     "output_type": "execute_result"
    }
   ],
   "source": [
    "my_list[0]"
   ]
  },
  {
   "cell_type": "code",
   "execution_count": 14,
   "id": "0d7d6ac0-baa4-44fa-8cf4-0c0b72140402",
   "metadata": {},
   "outputs": [],
   "source": [
    "my_list=[1,2,[100,200]]"
   ]
  },
  {
   "cell_type": "code",
   "execution_count": 15,
   "id": "55c52a9a-1922-4049-92d6-3dd405f00a4e",
   "metadata": {},
   "outputs": [
    {
     "data": {
      "text/plain": [
       "200"
      ]
     },
     "execution_count": 15,
     "metadata": {},
     "output_type": "execute_result"
    }
   ],
   "source": [
    "my_list[2][1]"
   ]
  },
  {
   "cell_type": "code",
   "execution_count": 27,
   "id": "c90cabd3-df58-4fea-aabf-e826614c1645",
   "metadata": {},
   "outputs": [],
   "source": [
    "my_list=['a','b','c','d']"
   ]
  },
  {
   "cell_type": "code",
   "execution_count": 28,
   "id": "9e062fe7-b328-4307-bd05-079b9d3ef01e",
   "metadata": {},
   "outputs": [
    {
     "data": {
      "text/plain": [
       "['a', 'b', 'c', 'd']"
      ]
     },
     "execution_count": 28,
     "metadata": {},
     "output_type": "execute_result"
    }
   ],
   "source": [
    "my_list"
   ]
  },
  {
   "cell_type": "code",
   "execution_count": 29,
   "id": "f670e29c-ed61-46fa-a5a8-0e35dff86024",
   "metadata": {},
   "outputs": [
    {
     "data": {
      "text/plain": [
       "['a', 'b']"
      ]
     },
     "execution_count": 29,
     "metadata": {},
     "output_type": "execute_result"
    }
   ],
   "source": [
    "my_list[:2]"
   ]
  },
  {
   "cell_type": "code",
   "execution_count": 30,
   "id": "3f722d9e-4915-4e1a-8601-df6dc13cdeb6",
   "metadata": {},
   "outputs": [
    {
     "data": {
      "text/plain": [
       "['a', 'b', 'c']"
      ]
     },
     "execution_count": 30,
     "metadata": {},
     "output_type": "execute_result"
    }
   ],
   "source": [
    "my_list[:-1]"
   ]
  },
  {
   "cell_type": "code",
   "execution_count": 31,
   "id": "17e0a03c-76f6-400d-b208-9ab6035761a3",
   "metadata": {},
   "outputs": [],
   "source": [
    "my_list[0]=\"new\""
   ]
  },
  {
   "cell_type": "code",
   "execution_count": 32,
   "id": "c88ea0a1-0135-4f2a-b425-d168dbc55e90",
   "metadata": {},
   "outputs": [
    {
     "data": {
      "text/plain": [
       "['new', 'b', 'c', 'd']"
      ]
     },
     "execution_count": 32,
     "metadata": {},
     "output_type": "execute_result"
    }
   ],
   "source": [
    "my_list"
   ]
  },
  {
   "cell_type": "code",
   "execution_count": 34,
   "id": "0e1a6be7-45a6-465b-adb6-9ce82b356c71",
   "metadata": {},
   "outputs": [],
   "source": [
    "my_list.append('e')"
   ]
  },
  {
   "cell_type": "code",
   "execution_count": 35,
   "id": "7577b085-bdc2-4c2c-a75c-084681c8c937",
   "metadata": {},
   "outputs": [
    {
     "data": {
      "text/plain": [
       "['new', 'b', 'c', 'd', 'e', 'e']"
      ]
     },
     "execution_count": 35,
     "metadata": {},
     "output_type": "execute_result"
    }
   ],
   "source": [
    "my_list"
   ]
  },
  {
   "cell_type": "markdown",
   "id": "39ebfc26-7bed-4a88-9317-27c62424ad18",
   "metadata": {},
   "source": [
    "### TUPLE"
   ]
  },
  {
   "cell_type": "code",
   "execution_count": 36,
   "id": "92cba617-989f-4aa9-ad1b-1889dcb78392",
   "metadata": {},
   "outputs": [],
   "source": [
    "t=(1,2,3)"
   ]
  },
  {
   "cell_type": "code",
   "execution_count": 37,
   "id": "f26674f6-8a4e-4ade-9d55-7095171167b7",
   "metadata": {},
   "outputs": [
    {
     "data": {
      "text/plain": [
       "(1, 2, 3)"
      ]
     },
     "execution_count": 37,
     "metadata": {},
     "output_type": "execute_result"
    }
   ],
   "source": [
    "t"
   ]
  },
  {
   "cell_type": "markdown",
   "id": "5aad3520-5451-4173-9b86-7569a9b12888",
   "metadata": {},
   "source": [
    "### DICTONARY"
   ]
  },
  {
   "cell_type": "code",
   "execution_count": 39,
   "id": "e4eb822f-0e78-45e6-81fe-1abdc7fee371",
   "metadata": {},
   "outputs": [],
   "source": [
    "d={\"name\":\"Shalin\",\"age\":19}"
   ]
  },
  {
   "cell_type": "code",
   "execution_count": 40,
   "id": "f4f1b48f-b256-42ce-8705-e7d59ac32154",
   "metadata": {},
   "outputs": [
    {
     "data": {
      "text/plain": [
       "{'name': 'Shalin', 'age': 19}"
      ]
     },
     "execution_count": 40,
     "metadata": {},
     "output_type": "execute_result"
    }
   ],
   "source": [
    "d"
   ]
  },
  {
   "cell_type": "code",
   "execution_count": 43,
   "id": "54d1262e-9341-417f-9572-21fa9aef1024",
   "metadata": {},
   "outputs": [
    {
     "data": {
      "text/plain": [
       "'Shalin'"
      ]
     },
     "execution_count": 43,
     "metadata": {},
     "output_type": "execute_result"
    }
   ],
   "source": [
    "d[\"name\"]"
   ]
  },
  {
   "cell_type": "code",
   "execution_count": 44,
   "id": "c010214c-0cb8-4445-8a04-c93068ab637e",
   "metadata": {},
   "outputs": [
    {
     "data": {
      "text/plain": [
       "19"
      ]
     },
     "execution_count": 44,
     "metadata": {},
     "output_type": "execute_result"
    }
   ],
   "source": [
    "d[\"age\"]"
   ]
  },
  {
   "cell_type": "markdown",
   "id": "5d5a2b0e-bbf5-4e5e-93e8-e50f7e577ce2",
   "metadata": {},
   "source": [
    "### SET"
   ]
  },
  {
   "cell_type": "code",
   "execution_count": 45,
   "id": "cbba6087-3111-4897-b85d-297475a088fa",
   "metadata": {},
   "outputs": [
    {
     "data": {
      "text/plain": [
       "{1, 2, 3, 4}"
      ]
     },
     "execution_count": 45,
     "metadata": {},
     "output_type": "execute_result"
    }
   ],
   "source": [
    "{1,1,1,1,2,2,3,3,3,3,3,3,4,4,4,4,4,4,4,4,4}"
   ]
  },
  {
   "cell_type": "markdown",
   "id": "6175fc05-9481-430e-9ae7-7ef716dce2d0",
   "metadata": {},
   "source": [
    "### FUNCTION"
   ]
  },
  {
   "cell_type": "code",
   "execution_count": 51,
   "id": "c82d2abf-9264-439c-b6dd-05ad465b9a8e",
   "metadata": {},
   "outputs": [],
   "source": [
    "def times2(var):\n",
    "    return (var*2)"
   ]
  },
  {
   "cell_type": "code",
   "execution_count": 52,
   "id": "a4c20368-8453-4e49-bf73-8216edba94cc",
   "metadata": {},
   "outputs": [
    {
     "data": {
      "text/plain": [
       "10"
      ]
     },
     "execution_count": 52,
     "metadata": {},
     "output_type": "execute_result"
    }
   ],
   "source": [
    "times2(5)"
   ]
  },
  {
   "cell_type": "code",
   "execution_count": 54,
   "id": "7d4781ff-6c27-4e76-b1c6-3b07d9988899",
   "metadata": {},
   "outputs": [],
   "source": [
    "times2=lambda var:var*2"
   ]
  },
  {
   "cell_type": "code",
   "execution_count": 55,
   "id": "362f5b5e-17fc-40e5-92d6-72acdd52d396",
   "metadata": {},
   "outputs": [
    {
     "name": "stdout",
     "output_type": "stream",
     "text": [
      "18\n"
     ]
    }
   ],
   "source": [
    "print(times2(9))"
   ]
  },
  {
   "cell_type": "code",
   "execution_count": 56,
   "id": "54297bca-49d5-4605-aff8-468276cf04a1",
   "metadata": {},
   "outputs": [],
   "source": [
    "x=[1,2,3,4]"
   ]
  },
  {
   "cell_type": "code",
   "execution_count": 59,
   "id": "4780ec15-2324-4370-81ea-e8038621d898",
   "metadata": {},
   "outputs": [
    {
     "name": "stdout",
     "output_type": "stream",
     "text": [
      "[1, 4, 9, 16]\n"
     ]
    }
   ],
   "source": [
    "out=[]\n",
    "for item in x:\n",
    "    out.append(item**2)\n",
    "print(out)"
   ]
  },
  {
   "cell_type": "code",
   "execution_count": 60,
   "id": "91312127-9eee-4efd-9df7-cea28abb198c",
   "metadata": {},
   "outputs": [
    {
     "data": {
      "text/plain": [
       "[1, 4, 9, 16]"
      ]
     },
     "execution_count": 60,
     "metadata": {},
     "output_type": "execute_result"
    }
   ],
   "source": [
    "[item**2 for item in x]"
   ]
  },
  {
   "cell_type": "code",
   "execution_count": 67,
   "id": "68b652cb-d598-4f88-b99e-b1db96476719",
   "metadata": {},
   "outputs": [
    {
     "name": "stdout",
     "output_type": "stream",
     "text": [
      "My name is: Shalin, my number is: 53\n"
     ]
    }
   ],
   "source": [
    "print(\"My name is: {0}, my number is: {1}\".format(\"Shalin\",53))"
   ]
  },
  {
   "cell_type": "code",
   "execution_count": 68,
   "id": "ce8093df-7173-446f-b3c2-00c4ccdbb043",
   "metadata": {},
   "outputs": [],
   "source": [
    "num=12\n",
    "name=\"Sam\""
   ]
  },
  {
   "cell_type": "code",
   "execution_count": 70,
   "id": "e1207e66-ff05-46e3-a426-3896fcacefed",
   "metadata": {},
   "outputs": [
    {
     "name": "stdout",
     "output_type": "stream",
     "text": [
      "My number is: 12, and my name is: Sam\n"
     ]
    }
   ],
   "source": [
    "print(\"My number is: {one}, and my name is: {two}\".format(one=num, two=name))"
   ]
  }
 ],
 "metadata": {
  "kernelspec": {
   "display_name": "Python 3 (Intel® oneAPI 2023.2)",
   "language": "python",
   "name": "c009-intel_distribution_of_python_3_oneapi-beta05-python"
  },
  "language_info": {
   "codemirror_mode": {
    "name": "ipython",
    "version": 3
   },
   "file_extension": ".py",
   "mimetype": "text/x-python",
   "name": "python",
   "nbconvert_exporter": "python",
   "pygments_lexer": "ipython3",
   "version": "3.9.16"
  },
  "toc-autonumbering": true,
  "toc-showcode": true,
  "toc-showmarkdowntxt": true
 },
 "nbformat": 4,
 "nbformat_minor": 5
}
